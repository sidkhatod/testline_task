{
 "cells": [
  {
   "cell_type": "code",
   "execution_count": 1,
   "metadata": {},
   "outputs": [],
   "source": [
    "import pandas as pd\n",
    "import json\n",
    "import matplotlib.pyplot as plt\n",
    "import seaborn as sns\n"
   ]
  },
  {
   "cell_type": "code",
   "execution_count": 2,
   "metadata": {},
   "outputs": [],
   "source": [
    "\n",
    "with open(\"Api_endpoint.json\") as f:\n",
    "    api_data = json.load(f)\n",
    "\n",
    "with open(\"Quiz_submission_data.json\") as f:\n",
    "    submission_data = json.load(f)\n",
    "\n",
    "with open(\"quiz_endpoint.json\") as f:\n",
    "    quiz_data = json.load(f)\n",
    "\n",
    "\n",
    "quiz_data = quiz_data['quiz']\n",
    "\n",
    "\n",
    "api_df = pd.json_normalize(api_data)  \n",
    "submission_df = pd.json_normalize(submission_data)  \n",
    "quiz_df = pd.DataFrame([quiz_data])  \n",
    "\n",
    "\n",
    "quiz_df.rename(columns={'id': 'quiz_id'}, inplace=True)\n"
   ]
  },
  {
   "cell_type": "code",
   "execution_count": 3,
   "metadata": {},
   "outputs": [
    {
     "name": "stdout",
     "output_type": "stream",
     "text": [
      "Current User Metrics:\n",
      "quiz_id: 43\n",
      "score: 32\n",
      "accuracy: 80.0\n",
      "speed: 100\n",
      "max_mistake_count: 15\n",
      "questions_count: 128\n",
      "topic: Structural Organisation in Animals\n"
     ]
    }
   ],
   "source": [
    "\n",
    "current_user_metrics = {\n",
    "    'quiz_id': submission_df['quiz_id'].iloc[0],\n",
    "    'score': submission_df['score'].iloc[0],\n",
    "    'accuracy': float(submission_df['accuracy'].iloc[0].strip('%')),\n",
    "    'speed': submission_df['speed'].iloc[0],\n",
    "    'max_mistake_count': quiz_df['max_mistake_count'].iloc[0],\n",
    "    'questions_count': quiz_df['questions_count'].iloc[0],\n",
    "    'topic': quiz_df['topic'].iloc[0],\n",
    "}\n",
    "\n",
    "\n",
    "print(\"Current User Metrics:\")\n",
    "for key, value in current_user_metrics.items():\n",
    "    print(f\"{key}: {value}\")\n"
   ]
  },
  {
   "cell_type": "code",
   "execution_count": 4,
   "metadata": {},
   "outputs": [
    {
     "name": "stdout",
     "output_type": "stream",
     "text": [
      "\n",
      "Historical Data Summary:\n",
      "    quiz_id  score accuracy speed\n",
      "0        51    108     90 %   100\n",
      "1         6     92    100 %   100\n",
      "2        51    116     96 %   100\n",
      "3         6     36     90 %   100\n",
      "4        51     36     31 %    96\n",
      "5        57     40     38 %    86\n",
      "6         6     36     50 %    78\n",
      "7        20     12     30 %   100\n",
      "8        24     76    100 %    95\n",
      "9        18     40    100 %   100\n",
      "10       25    112     93 %   100\n",
      "11       18     64     84 %    86\n",
      "12       58     52     43 %   100\n",
      "13       50     24     66 %    90\n",
      "\n",
      "Historical Averages:\n",
      "score       60.285714\n",
      "accuracy    72.214286\n",
      "speed       95.071429\n",
      "dtype: float64\n"
     ]
    }
   ],
   "source": [
    "\n",
    "historical_data = api_df[api_df['user_id'] != submission_df['user_id'].iloc[0]]\n",
    "\n",
    "if historical_data.empty:\n",
    "    print(\"\\nNo historical data available for this user.\")\n",
    "else:\n",
    "    \n",
    "    print(\"\\nHistorical Data Summary:\")\n",
    "    print(historical_data[['quiz_id', 'score', 'accuracy', 'speed']])\n",
    "\n",
    "    historical_data['score'] = historical_data['score'].astype(str).str.replace('%', '').astype(float)\n",
    "    historical_data['accuracy'] = historical_data['accuracy'].astype(str).str.replace('%', '').astype(float)\n",
    "    historical_data['speed'] = pd.to_numeric(historical_data['speed'], errors='coerce')\n",
    "\n",
    "    \n",
    "    historical_summary = historical_data[['score', 'accuracy', 'speed']].mean()\n",
    "    print(\"\\nHistorical Averages:\")\n",
    "    print(historical_summary)\n"
   ]
  },
  {
   "cell_type": "code",
   "execution_count": 5,
   "metadata": {},
   "outputs": [
    {
     "name": "stdout",
     "output_type": "stream",
     "text": [
      "\n",
      "Insights from the Current Quiz:\n",
      "- Score: 32 (6.25% of maximum possible 512).\n",
      "- Accuracy is below 90%. Focus on reviewing mistakes to improve.\n",
      "- Mistakes made (26) exceeded the allowed limit (15). Focus on avoiding repeated errors.\n"
     ]
    }
   ],
   "source": [
    "\n",
    "insights = []\n",
    "\n",
    "\n",
    "max_possible_score = 4 * current_user_metrics['questions_count']  \n",
    "score_percentage = (current_user_metrics['score'] / max_possible_score) * 100\n",
    "insights.append(f\"Score: {current_user_metrics['score']} ({score_percentage:.2f}% of maximum possible {max_possible_score}).\")\n",
    "\n",
    "\n",
    "if current_user_metrics['accuracy'] < 90.0:\n",
    "    insights.append(\"Accuracy is below 90%. Focus on reviewing mistakes to improve.\")\n",
    "\n",
    "\n",
    "if int(current_user_metrics['speed']) < 80:  \n",
    "    insights.append(\"Speed is below average. Consider practicing timed quizzes to improve pace.\")\n",
    "\n",
    "\n",
    "mistakes_made = current_user_metrics['questions_count'] - (current_user_metrics['accuracy'] / 100 * current_user_metrics['questions_count'])\n",
    "if mistakes_made > current_user_metrics['max_mistake_count']:\n",
    "    insights.append(f\"Mistakes made ({mistakes_made:.0f}) exceeded the allowed limit ({current_user_metrics['max_mistake_count']}). Focus on avoiding repeated errors.\")\n",
    "\n",
    "\n",
    "print(\"\\nInsights from the Current Quiz:\")\n",
    "for insight in insights:\n",
    "    print(f\"- {insight}\")\n"
   ]
  },
  {
   "cell_type": "code",
   "execution_count": 6,
   "metadata": {},
   "outputs": [
    {
     "name": "stdout",
     "output_type": "stream",
     "text": [
      "\n",
      "Recommendations for Improvement:\n",
      "- Review incorrect answers from this quiz to avoid repeated mistakes.\n",
      "- Focus more on the topic: Structural Organisation in Animals for future improvement.\n"
     ]
    }
   ],
   "source": [
    "\n",
    "recommendations = []\n",
    "\n",
    "\n",
    "recommendations.append(\"Review incorrect answers from this quiz to avoid repeated mistakes.\")\n",
    "\n",
    "\n",
    "if int(current_user_metrics['speed']) < 100:\n",
    "    recommendations.append(\"Practice with timed quizzes to improve response speed.\")\n",
    "\n",
    "\n",
    "if not(historical_data.empty):\n",
    "    recommendations.append(f\"Focus more on the topic: {current_user_metrics['topic']} for future improvement.\")\n",
    "\n",
    "\n",
    "print(\"\\nRecommendations for Improvement:\")\n",
    "for rec in recommendations:\n",
    "    print(f\"- {rec}\")\n"
   ]
  },
  {
   "cell_type": "code",
   "execution_count": 7,
   "metadata": {},
   "outputs": [
    {
     "data": {
      "image/png": "[encoded data removed]",
      "text/plain": [
       "<Figure size 640x480 with 1 Axes>"
      ]
     },
     "metadata": {},
     "output_type": "display_data"
    }
   ],
   "source": [
    "\n",
    "labels = ['Score', 'Accuracy', 'Speed']\n",
    "values = [current_user_metrics['score'], current_user_metrics['accuracy'], int(current_user_metrics['speed'])]\n",
    "\n",
    "plt.bar(labels, values, color=['blue', 'green', 'orange'])\n",
    "plt.title(\"Current Quiz Performance\")\n",
    "plt.ylabel(\"Value\")\n",
    "plt.show()\n"
   ]
  }
 ],
 "metadata": {
  "kernelspec": {
   "display_name": "Python 3",
   "language": "python",
   "name": "python3"
  },
  "language_info": {
   "codemirror_mode": {
    "name": "ipython",
    "version": 3
   },
   "file_extension": ".py",
   "mimetype": "text/x-python",
   "name": "python",
   "nbconvert_exporter": "python",
   "pygments_lexer": "ipython3",
   "version": "3.12.8"
  }
 },
 "nbformat": 4,
 "nbformat_minor": 2
}
